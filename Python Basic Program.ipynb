{
 "cells": [
  {
   "cell_type": "markdown",
   "id": "89a0b77c",
   "metadata": {},
   "source": [
    "### factorial program "
   ]
  },
  {
   "cell_type": "code",
   "execution_count": 5,
   "id": "7473df2b",
   "metadata": {},
   "outputs": [
    {
     "name": "stdout",
     "output_type": "stream",
     "text": [
      "Enter the number:6\n",
      "factorial of: 6 is: 720\n"
     ]
    }
   ],
   "source": [
    "####### Take a number from user and find the factorial of that number Using Recurssion Function\n",
    "num=int(input(\"Enter the number:\"))\n",
    "def factorial(num):  \n",
    "        return 1 if(num==0 or num==1) else num*factorial(num-1)    \n",
    "print(\"factorial of:\",num ,\"is:\",factorial(num))"
   ]
  },
  {
   "cell_type": "markdown",
   "id": "84eb252e",
   "metadata": {},
   "source": [
    "#### Factorial Program Using Iterative Approach "
   ]
  },
  {
   "cell_type": "code",
   "execution_count": 7,
   "id": "2fa0be07",
   "metadata": {},
   "outputs": [
    {
     "name": "stdout",
     "output_type": "stream",
     "text": [
      "Enter the number:-5\n",
      "factoril of: -5 is: Invalid Input\n"
     ]
    }
   ],
   "source": [
    "def factorial(n):\n",
    "    if(n<0):\n",
    "        return \"Invalid Input\"\n",
    "    elif(n==0 or n==1):\n",
    "        return 1\n",
    "    else:\n",
    "        fact=1\n",
    "        while(n>1):\n",
    "            fact*=n\n",
    "            n-=1\n",
    "        return fact\n",
    "n=int(input(\"Enter the number:\"))    \n",
    "print(\"factoril of:\",n,'is:',factorial(n))    "
   ]
  },
  {
   "cell_type": "markdown",
   "id": "1e740eb3",
   "metadata": {},
   "source": [
    "### Fcatorial Program using In-Built Function "
   ]
  },
  {
   "cell_type": "code",
   "execution_count": 10,
   "id": "cb0d0f63",
   "metadata": {},
   "outputs": [
    {
     "name": "stdout",
     "output_type": "stream",
     "text": [
      "Enter the number:4\n",
      "factorial of: 4 is: 24\n"
     ]
    }
   ],
   "source": [
    "import math\n",
    "def factorial(n):\n",
    "    return(math.factorial(n))\n",
    "n=int(input(\"Enter the number:\"))\n",
    "print(\"factorial of:\",n,'is:',factorial(n))\n"
   ]
  },
  {
   "cell_type": "markdown",
   "id": "598eb4a3",
   "metadata": {},
   "source": [
    "### Find out the number which are divisible by 3 and not by 2 in the range of 1 to 100 "
   ]
  },
  {
   "cell_type": "code",
   "execution_count": 13,
   "id": "ca349175",
   "metadata": {},
   "outputs": [
    {
     "name": "stdout",
     "output_type": "stream",
     "text": [
      "3\n",
      "9\n",
      "15\n",
      "21\n",
      "27\n",
      "33\n",
      "39\n",
      "45\n",
      "51\n",
      "57\n",
      "63\n",
      "69\n",
      "75\n",
      "81\n",
      "87\n",
      "93\n",
      "99\n"
     ]
    }
   ],
   "source": [
    "def Number_DivisibleBy3_notBy2(a,b):\n",
    "    for n in range(a,b+1):\n",
    "        if(n%2!=0 and n%3==0):\n",
    "            print(n)\n",
    "a=1\n",
    "b=100\n",
    "Number_DivisibleBy3_notBy2(a,b)"
   ]
  },
  {
   "cell_type": "markdown",
   "id": "8475ffaa",
   "metadata": {},
   "source": [
    "### Que : Take age as input from user and if age is in between 18 and 100 print 'age is correct,otherwise keep asking for age' "
   ]
  },
  {
   "cell_type": "code",
   "execution_count": 16,
   "id": "58c736c7",
   "metadata": {},
   "outputs": [
    {
     "name": "stdout",
     "output_type": "stream",
     "text": [
      "Enter your age:3\n",
      "Enter your age:8\n",
      "Enter your age:6\n",
      "Enter your age:5\n",
      "Enter your age:12\n",
      "Enter your age:17\n",
      "Enter your age:18\n",
      "Enter your age:19\n",
      "Age is correct\n"
     ]
    }
   ],
   "source": [
    "flag=1\n",
    "while(flag):\n",
    "    age=int(input(\"Enter your age:\"))\n",
    "    if(age>18 and age<100):\n",
    "        print(\"Age is correct\")\n",
    "        flag=0"
   ]
  },
  {
   "cell_type": "markdown",
   "id": "945f343f",
   "metadata": {},
   "source": [
    "### Take User name and sirname as input and print first letter of name and sirname "
   ]
  },
  {
   "cell_type": "code",
   "execution_count": 22,
   "id": "3608a97d",
   "metadata": {},
   "outputs": [
    {
     "name": "stdout",
     "output_type": "stream",
     "text": [
      "Enter your name_sirname:Trunal Wadibhasme\n",
      "['Trunal', 'Wadibhasme']\n",
      "T\n",
      "W\n"
     ]
    }
   ],
   "source": [
    "Name=input(\"Enter your name_sirname:\")\n",
    "a=Name.split(\" \")\n",
    "print(a)\n",
    "for l in a:\n",
    "    print(l[0])\n",
    "    "
   ]
  },
  {
   "cell_type": "markdown",
   "id": "4600c9ab",
   "metadata": {},
   "source": [
    "### Count the total no of vowels in the string "
   ]
  },
  {
   "cell_type": "code",
   "execution_count": 31,
   "id": "89d6f44c",
   "metadata": {},
   "outputs": [
    {
     "name": "stdout",
     "output_type": "stream",
     "text": [
      "Total no of vowels: 9\n"
     ]
    }
   ],
   "source": [
    "a='jhfdghruyiiajlhbIOUnabhaj'\n",
    "a=a.lower()\n",
    "vowel2=['a','e','i','o','u']\n",
    "vowel_count=0\n",
    "for i in a:\n",
    "    if(i in vowel2):\n",
    "        vowel_count+=1    \n",
    "print(\"Total no of vowels:\",vowel_count)        \n",
    "\n"
   ]
  },
  {
   "cell_type": "markdown",
   "id": "20d7ff57",
   "metadata": {},
   "source": [
    "### Take a number from user and find the last digit of that number "
   ]
  },
  {
   "cell_type": "code",
   "execution_count": 35,
   "id": "2e4a942c",
   "metadata": {},
   "outputs": [
    {
     "name": "stdout",
     "output_type": "stream",
     "text": [
      "Enter the number:1008\n",
      "Last digit of 1008 is: 8\n"
     ]
    }
   ],
   "source": [
    "num=int(input(\"Enter the number:\"))\n",
    "def find_lastDigit(num):\n",
    "    return num%10\n",
    "print(\"Last digit of\",num,\"is:\",find_lastDigit(num))"
   ]
  },
  {
   "cell_type": "markdown",
   "id": "af93fc44",
   "metadata": {},
   "source": [
    "### Write a program for Simple Interest "
   ]
  },
  {
   "cell_type": "code",
   "execution_count": 36,
   "id": "26416b83",
   "metadata": {},
   "outputs": [
    {
     "name": "stdout",
     "output_type": "stream",
     "text": [
      "Enter the Principal ammount:10000\n",
      "Enter the rate:3\n",
      "Enter the Time:5\n",
      "Simple Interest is: 1500.0\n"
     ]
    }
   ],
   "source": [
    "P=int(input(\"Enter the Principal ammount:\"))\n",
    "R=int(input(\"Enter the rate:\"))\n",
    "T=int(input(\"Enter the Time:\"))\n",
    "def Simple_Interest(P,T,R):\n",
    "    return (P*T*R)/100\n",
    "print(\"Simple Interest is:\",Simple_Interest(P,T,R))"
   ]
  },
  {
   "cell_type": "markdown",
   "id": "768c0768",
   "metadata": {},
   "source": [
    "### Compound Interest "
   ]
  },
  {
   "cell_type": "code",
   "execution_count": 49,
   "id": "282810bb",
   "metadata": {},
   "outputs": [
    {
     "name": "stdout",
     "output_type": "stream",
     "text": [
      "Enter the Principal ammount:20000\n",
      "Enter the rate:4\n",
      "Enter the Time:6\n",
      "Compund Interest: 5306.380369920007\n"
     ]
    }
   ],
   "source": [
    "P=int(input(\"Enter the Principal ammount:\"))\n",
    "R=float(input(\"Enter the rate:\"))\n",
    "T=int(input(\"Enter the Time:\"))\n",
    "def Compound_Interest(P,T,R):\n",
    "    A=P*(1+R/100)**T\n",
    "    return A-P\n",
    "print(\"Compund Interest:\",Compound_Interest(P,T,R))"
   ]
  },
  {
   "cell_type": "markdown",
   "id": "cdd1fb2b",
   "metadata": {},
   "source": [
    "#### Print Fobonannchi series Upto 100 "
   ]
  },
  {
   "cell_type": "code",
   "execution_count": 62,
   "id": "374f7a20",
   "metadata": {},
   "outputs": [
    {
     "name": "stdout",
     "output_type": "stream",
     "text": [
      "[0, 1, 1, 2, 3, 5, 8, 13, 21, 34, 55, 89]\n"
     ]
    }
   ],
   "source": [
    "fibo_num=[0,1]\n",
    "n=100\n",
    "def Fibonacchi_number(fibo_num,n):\n",
    "    a=fibo_num[0]\n",
    "    b=fibo_num[1]\n",
    "    z=0\n",
    "    while(z<=100):\n",
    "        z=a+b\n",
    "        a=b\n",
    "        b=z\n",
    "        if(z<=100):\n",
    "            fibo_num.append(z)\n",
    "    return fibo_num    \n",
    "print(Fibonacchi_number(fibo_num,n))        \n",
    "        "
   ]
  },
  {
   "cell_type": "code",
   "execution_count": null,
   "id": "199a1a80",
   "metadata": {},
   "outputs": [],
   "source": []
  }
 ],
 "metadata": {
  "kernelspec": {
   "display_name": "Python 3 (ipykernel)",
   "language": "python",
   "name": "python3"
  },
  "language_info": {
   "codemirror_mode": {
    "name": "ipython",
    "version": 3
   },
   "file_extension": ".py",
   "mimetype": "text/x-python",
   "name": "python",
   "nbconvert_exporter": "python",
   "pygments_lexer": "ipython3",
   "version": "3.9.7"
  }
 },
 "nbformat": 4,
 "nbformat_minor": 5
}
