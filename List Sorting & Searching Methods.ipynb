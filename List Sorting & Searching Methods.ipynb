{
 "cells": [
  {
   "cell_type": "markdown",
   "id": "d74d0d31",
   "metadata": {},
   "source": [
    "## Buble sort  Method\n"
   ]
  },
  {
   "cell_type": "code",
   "execution_count": 1,
   "id": "c863df3e",
   "metadata": {},
   "outputs": [
    {
     "name": "stdout",
     "output_type": "stream",
     "text": [
      "Enter how many number you want to enter in the list:5\n",
      "Enter the next number:10\n",
      "Enter the next number:8\n",
      "Enter the next number:6\n",
      "Enter the next number:-2\n",
      "Enter the next number:5\n",
      "list after sorted: [-2, 5, 6, 8, 10]\n"
     ]
    }
   ],
   "source": [
    "############# Buble sort in python\n",
    "length=int(input(\"Enter how many number you want to enter in the list:\"))\n",
    "li=[]\n",
    "for k in range(length):\n",
    "    num=int(input(\"Enter the next number:\"))\n",
    "    li.append(num)\n",
    "def sort(li):\n",
    "    for i in range(len(li)-1):\n",
    "        for j in range(len(li)-(i+1)):\n",
    "            if li[j]>li[j+1]:                      ######### swaping criteria\n",
    "                li[j],li[j+1]=li[j+1],li[j]        ######### swap two number\n",
    "    return li        \n",
    "print(\"list after sorted:\",sort(li))        "
   ]
  },
  {
   "cell_type": "markdown",
   "id": "5a435750",
   "metadata": {},
   "source": [
    "## Selection sort method "
   ]
  },
  {
   "cell_type": "code",
   "execution_count": 2,
   "id": "695e6703",
   "metadata": {},
   "outputs": [
    {
     "name": "stdout",
     "output_type": "stream",
     "text": [
      "Enter how many number you want to enter in the list:8\n",
      "Enter the next number:4\n",
      "Enter the next number:3\n",
      "Enter the next number:-5\n",
      "Enter the next number:85\n",
      "Enter the next number:45\n",
      "Enter the next number:36\n",
      "Enter the next number:-15\n",
      "Enter the next number:35\n"
     ]
    },
    {
     "data": {
      "text/plain": [
       "[-15, -5, 3, 4, 35, 36, 45, 85]"
      ]
     },
     "execution_count": 2,
     "metadata": {},
     "output_type": "execute_result"
    }
   ],
   "source": [
    "###### selection sort in python \n",
    "length=int(input(\"Enter how many number you want to enter in the list:\"))\n",
    "li=[]\n",
    "for k in range(length):\n",
    "    num=int(input(\"Enter the next number:\"))\n",
    "    li.append(num)\n",
    "def selection_sort(li):\n",
    "    for i in range(len(li)-1):\n",
    "        min_ind=i\n",
    "        for j in range(i+1,len(li)):\n",
    "            if li[min_ind]>li[j]:\n",
    "                min_ind=j\n",
    "        li[i],li[min_ind]=li[min_ind],li[i]        \n",
    "    return (li)\n",
    "selection_sort(li)\n",
    "\n",
    "        "
   ]
  },
  {
   "cell_type": "markdown",
   "id": "fa53a7a1",
   "metadata": {},
   "source": [
    "## Binary search Method "
   ]
  },
  {
   "cell_type": "code",
   "execution_count": 7,
   "id": "50dc84ee",
   "metadata": {},
   "outputs": [
    {
     "name": "stdout",
     "output_type": "stream",
     "text": [
      "Enter how many number you want to enter in the list:5\n",
      "Enter the next number:10\n",
      "Enter the next number:54\n",
      "Enter the next number:65\n",
      "Enter the next number:87\n",
      "Enter the next number:25\n",
      "[10, 25, 54, 65, 87]\n",
      "Enter the value which you want to search in the list:87\n",
      "Found at: 5\n"
     ]
    }
   ],
   "source": [
    "length=int(input(\"Enter how many number you want to enter in the list:\"))\n",
    "li=[]\n",
    "for k in range(length):\n",
    "    num=int(input(\"Enter the next number:\"))\n",
    "    li.append(num)\n",
    "pos=-1                                ###############    Global variable\n",
    "def Binary_search(li,search):\n",
    "    L=0\n",
    "    U=len(li)-1\n",
    "    while(L<=U):\n",
    "        mid=(L+U)//2\n",
    "        if li[mid]==search:\n",
    "            globals()['pos']=mid      #### To change the value of global variable,we used global keyword\n",
    "            return True\n",
    "        else:\n",
    "            if li[mid]<search:\n",
    "                L=mid+1\n",
    "            else:\n",
    "                U=mid-1\n",
    "    return False\n",
    "li.sort()\n",
    "print(li)\n",
    "search=int(input(\"Enter the value which you want to search in the list:\"))\n",
    "if Binary_search(li,search):\n",
    "    print(\"Found at:\",pos+1)\n",
    "else:\n",
    "    print(\"Not found\")\n",
    "    "
   ]
  },
  {
   "cell_type": "markdown",
   "id": "4afa33b8",
   "metadata": {},
   "source": [
    "## Linear search Method\n"
   ]
  },
  {
   "cell_type": "code",
   "execution_count": 11,
   "id": "50b8b205",
   "metadata": {},
   "outputs": [
    {
     "name": "stdout",
     "output_type": "stream",
     "text": [
      "Enter how many number you want to enter in the list:3\n",
      "Enter the next number:10\n",
      "Enter the next number:20\n",
      "Enter the next number:30\n",
      "List: [10, 20, 30]\n",
      "Enter the value which you want to search in the list:40\n",
      "Not Found\n"
     ]
    }
   ],
   "source": [
    "length=int(input(\"Enter how many number you want to enter in the list:\"))\n",
    "li=[]\n",
    "for k in range(length):\n",
    "    num=int(input(\"Enter the next number:\"))\n",
    "    li.append(num)\n",
    "print(\"List:\",li)    \n",
    "pos=-1\n",
    "search=int(input(\"Enter the value which you want to search in the list:\"))\n",
    "def Linear_search(li,search):\n",
    "    for i in range(length):\n",
    "        if(li[i]==search):\n",
    "            globals()['pos']=i\n",
    "            return True\n",
    "    return False\n",
    "if Linear_search(li,search):\n",
    "    print(\"Found at:\",pos+1)\n",
    "else:\n",
    "    print(\"Not Found\")\n",
    "    \n"
   ]
  },
  {
   "cell_type": "code",
   "execution_count": null,
   "id": "c67f0aa4",
   "metadata": {},
   "outputs": [],
   "source": []
  }
 ],
 "metadata": {
  "kernelspec": {
   "display_name": "Python 3 (ipykernel)",
   "language": "python",
   "name": "python3"
  },
  "language_info": {
   "codemirror_mode": {
    "name": "ipython",
    "version": 3
   },
   "file_extension": ".py",
   "mimetype": "text/x-python",
   "name": "python",
   "nbconvert_exporter": "python",
   "pygments_lexer": "ipython3",
   "version": "3.9.7"
  }
 },
 "nbformat": 4,
 "nbformat_minor": 5
}
